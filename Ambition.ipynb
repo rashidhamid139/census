{
 "cells": [
  {
   "cell_type": "code",
   "execution_count": 30,
   "metadata": {},
   "outputs": [],
   "source": [
    "import os\n",
    "import pandas as pd\n",
    "import numpy as np\n",
    "os.chdir(r\"C:\\Users\\rashid\\Desktop\\Problem\\Problem1\")"
   ]
  },
  {
   "cell_type": "code",
   "execution_count": 31,
   "metadata": {},
   "outputs": [],
   "source": [
    "column=['age','sex','education','native-country','race','marital-status','workclass',\n",
    "        'occupation','hours-per-week','income','capital-gain','capital-loss']"
   ]
  },
  {
   "cell_type": "code",
   "execution_count": 32,
   "metadata": {},
   "outputs": [],
   "source": [
    "df=pd.read_csv(\"census.csv\",names=column)"
   ]
  },
  {
   "cell_type": "code",
   "execution_count": 33,
   "metadata": {
    "scrolled": false
   },
   "outputs": [
    {
     "data": {
      "text/html": [
       "<div>\n",
       "<style scoped>\n",
       "    .dataframe tbody tr th:only-of-type {\n",
       "        vertical-align: middle;\n",
       "    }\n",
       "\n",
       "    .dataframe tbody tr th {\n",
       "        vertical-align: top;\n",
       "    }\n",
       "\n",
       "    .dataframe thead th {\n",
       "        text-align: right;\n",
       "    }\n",
       "</style>\n",
       "<table border=\"1\" class=\"dataframe\">\n",
       "  <thead>\n",
       "    <tr style=\"text-align: right;\">\n",
       "      <th></th>\n",
       "      <th>age</th>\n",
       "      <th>sex</th>\n",
       "      <th>education</th>\n",
       "      <th>native-country</th>\n",
       "      <th>race</th>\n",
       "      <th>marital-status</th>\n",
       "      <th>workclass</th>\n",
       "      <th>occupation</th>\n",
       "      <th>hours-per-week</th>\n",
       "      <th>income</th>\n",
       "      <th>capital-gain</th>\n",
       "      <th>capital-loss</th>\n",
       "    </tr>\n",
       "  </thead>\n",
       "  <tbody>\n",
       "    <tr>\n",
       "      <th>0</th>\n",
       "      <td>age=Middle-aged</td>\n",
       "      <td>sex=Male</td>\n",
       "      <td>education=Bachelors</td>\n",
       "      <td>native-country=United-States</td>\n",
       "      <td>race=White</td>\n",
       "      <td>marital-status=Never-married</td>\n",
       "      <td>workclass=State-gov</td>\n",
       "      <td>occupation=Adm-clerical</td>\n",
       "      <td>hours-per-week=Full-time</td>\n",
       "      <td>income=Small</td>\n",
       "      <td>capital-gain=Low</td>\n",
       "      <td>capital-loss=None</td>\n",
       "    </tr>\n",
       "    <tr>\n",
       "      <th>1</th>\n",
       "      <td>age=Senior</td>\n",
       "      <td>sex=Male</td>\n",
       "      <td>education=Bachelors</td>\n",
       "      <td>native-country=United-States</td>\n",
       "      <td>race=White</td>\n",
       "      <td>marital-status=Married-civ-spouse</td>\n",
       "      <td>workclass=Self-emp-not-inc</td>\n",
       "      <td>occupation=Exec-managerial</td>\n",
       "      <td>hours-per-week=Part-time</td>\n",
       "      <td>income=Small</td>\n",
       "      <td>capital-gain=None</td>\n",
       "      <td>capital-loss=None</td>\n",
       "    </tr>\n",
       "    <tr>\n",
       "      <th>2</th>\n",
       "      <td>age=Middle-aged</td>\n",
       "      <td>sex=Male</td>\n",
       "      <td>education=HS-grad</td>\n",
       "      <td>native-country=United-States</td>\n",
       "      <td>race=White</td>\n",
       "      <td>marital-status=Divorced</td>\n",
       "      <td>workclass=Private</td>\n",
       "      <td>occupation=Handlers-cleaners</td>\n",
       "      <td>hours-per-week=Full-time</td>\n",
       "      <td>income=Small</td>\n",
       "      <td>capital-gain=None</td>\n",
       "      <td>capital-loss=None</td>\n",
       "    </tr>\n",
       "    <tr>\n",
       "      <th>3</th>\n",
       "      <td>age=Senior</td>\n",
       "      <td>sex=Male</td>\n",
       "      <td>education=11th</td>\n",
       "      <td>native-country=United-States</td>\n",
       "      <td>race=Black</td>\n",
       "      <td>marital-status=Married-civ-spouse</td>\n",
       "      <td>workclass=Private</td>\n",
       "      <td>occupation=Handlers-cleaners</td>\n",
       "      <td>hours-per-week=Full-time</td>\n",
       "      <td>income=Small</td>\n",
       "      <td>capital-gain=None</td>\n",
       "      <td>capital-loss=None</td>\n",
       "    </tr>\n",
       "  </tbody>\n",
       "</table>\n",
       "</div>"
      ],
      "text/plain": [
       "               age       sex            education  \\\n",
       "0  age=Middle-aged  sex=Male  education=Bachelors   \n",
       "1       age=Senior  sex=Male  education=Bachelors   \n",
       "2  age=Middle-aged  sex=Male    education=HS-grad   \n",
       "3       age=Senior  sex=Male       education=11th   \n",
       "\n",
       "                 native-country        race  \\\n",
       "0  native-country=United-States  race=White   \n",
       "1  native-country=United-States  race=White   \n",
       "2  native-country=United-States  race=White   \n",
       "3  native-country=United-States  race=Black   \n",
       "\n",
       "                      marital-status                   workclass  \\\n",
       "0       marital-status=Never-married         workclass=State-gov   \n",
       "1  marital-status=Married-civ-spouse  workclass=Self-emp-not-inc   \n",
       "2            marital-status=Divorced           workclass=Private   \n",
       "3  marital-status=Married-civ-spouse           workclass=Private   \n",
       "\n",
       "                     occupation            hours-per-week        income  \\\n",
       "0       occupation=Adm-clerical  hours-per-week=Full-time  income=Small   \n",
       "1    occupation=Exec-managerial  hours-per-week=Part-time  income=Small   \n",
       "2  occupation=Handlers-cleaners  hours-per-week=Full-time  income=Small   \n",
       "3  occupation=Handlers-cleaners  hours-per-week=Full-time  income=Small   \n",
       "\n",
       "        capital-gain       capital-loss  \n",
       "0   capital-gain=Low  capital-loss=None  \n",
       "1  capital-gain=None  capital-loss=None  \n",
       "2  capital-gain=None  capital-loss=None  \n",
       "3  capital-gain=None  capital-loss=None  "
      ]
     },
     "execution_count": 33,
     "metadata": {},
     "output_type": "execute_result"
    }
   ],
   "source": [
    "df.head(4)"
   ]
  },
  {
   "cell_type": "code",
   "execution_count": 53,
   "metadata": {},
   "outputs": [],
   "source": [
    "\n",
    "def Rule1():\n",
    "    print(\"This is Rule1\")\n",
    "    new_dfx_r1=pd.DataFrame([],columns=[])\n",
    "    new_dfy_r1=pd.DataFrame([],columns=[])\n",
    "    for i in range(df.shape[0]):            \n",
    "        if( df['native-country'][i]=='native-country=United-States' and df['capital-gain'][i]=='capital-gain=None'):\n",
    "            new_dfx_r1=new_dfx_r1.append(df.loc[i])\n",
    "\n",
    "        if(df['capital-loss'][i]=='capital-loss=None'):\n",
    "            new_dfy_r1=new_dfy_r1.append(df.loc[i])\n",
    "\n",
    "    df_union_all_r1=pd.concat([new_dfx_r1,new_dfy_r1]).drop_duplicates()\n",
    "\n",
    "    print(\"Support of attributes {native-country, capital-gain}: \",new_dfx_r1.shape[0])\n",
    "    print(\"Support of attribute {capital-loss}:: \",new_dfy_r1.shape[0])\n",
    "    confidence_rule1=(df_union_all_r1.shape[0])/(new_dfx_r1.shape[0])\n",
    "    print(\"Confidence of Rule1: \",confidence_rule1)\n",
    "    return confidence_rule1"
   ]
  },
  {
   "cell_type": "code",
   "execution_count": 54,
   "metadata": {},
   "outputs": [],
   "source": [
    "\n",
    "def Rule2():\n",
    "    print(\"This is Rule2\")\n",
    "    new_dfx_r2=pd.DataFrame([],columns=[])\n",
    "    new_dfy_r2=pd.DataFrame([],columns=[])\n",
    "    for i in range(df.shape[0]):\n",
    "        if( df['native-country'][i]=='native-country=United-States' and df['capital-loss'][i]=='capital-loss=None'):\n",
    "            new_dfx_r2=new_dfx_r2.append(df.loc[i])\n",
    "\n",
    "        if(df['capital-gain'][i]=='capital-gain=None'):\n",
    "            new_dfy_r2=new_dfy_r2.append(df.loc[i])\n",
    "\n",
    "    df_union_all_r2=pd.concat([new_dfx_r2,new_dfy_r2]).drop_duplicates()\n",
    "\n",
    "    print(\"Support of attributes {native-country, capital-loss}: \",new_dfx_r2.shape[0])\n",
    "    print(\"Support of attribute {capital-gain}:: \",new_dfy_r2.shape[0])\n",
    "    confidence_rule2=(df_union_all_r2.shape[0])/(new_dfx_r2.shape[0])\n",
    "    print(\"Confidence of Rule2: \",confidence_rule2)\n",
    "    return confidence_rule2"
   ]
  },
  {
   "cell_type": "code",
   "execution_count": 55,
   "metadata": {},
   "outputs": [],
   "source": [
    "def Rule3():\n",
    "    print(\"This is Rule3\")\n",
    "    new_dfx_r3=pd.DataFrame([],columns=[])\n",
    "    new_dfy_r3=pd.DataFrame([],columns=[])\n",
    "    for i in range(df.shape[0]):\n",
    "        if( df['capital-gain'][i]=='capital-gain=None' and df['capital-loss'][i]=='capital-loss=None'):\n",
    "            new_dfx_r3=new_dfx_r3.append(df.loc[i])\n",
    "\n",
    "        if( df['native-country'][i]=='native-country=United-States' ):\n",
    "            new_dfy_r3=new_dfy_r3.append(df.loc[i])\n",
    "\n",
    "    df_union_all_r3=pd.concat([new_dfx_r3,new_dfy_r3]).drop_duplicates()\n",
    "\n",
    "    print(\"Support of attributes {capital-gain, capital-loss}: \",new_dfx_r3.shape[0])\n",
    "    print(\"Support of attribute {native-country}:: \",new_dfy_r3.shape[0])\n",
    "    confidence_rule3=(df_union_all_r3.shape[0])/new_dfx_r3.shape[0]\n",
    "    print(\"Confidence of Rule3: \",confidence_rule3) \n",
    "    return confidence_rule3"
   ]
  },
  {
   "cell_type": "code",
   "execution_count": 56,
   "metadata": {},
   "outputs": [
    {
     "name": "stdout",
     "output_type": "stream",
     "text": [
      "This is Rule1\n",
      "Support of attributes {native-country, capital-gain}:  1766\n",
      "Support of attribute {capital-loss}::  2000\n",
      "Confidence of Rule1:  0.9462061155152888\n"
     ]
    },
    {
     "data": {
      "text/plain": [
       "0.9462061155152888"
      ]
     },
     "execution_count": 56,
     "metadata": {},
     "output_type": "execute_result"
    }
   ],
   "source": [
    "Rule1()"
   ]
  },
  {
   "cell_type": "code",
   "execution_count": 57,
   "metadata": {},
   "outputs": [
    {
     "name": "stdout",
     "output_type": "stream",
     "text": [
      "This is Rule2\n",
      "Support of attributes {native-country, capital-loss}:  1834\n",
      "Support of attribute {capital-gain}::  1934\n",
      "Confidence of Rule2:  0.9122137404580153\n"
     ]
    },
    {
     "data": {
      "text/plain": [
       "0.9122137404580153"
      ]
     },
     "execution_count": 57,
     "metadata": {},
     "output_type": "execute_result"
    }
   ],
   "source": [
    "Rule2()"
   ]
  },
  {
   "cell_type": "code",
   "execution_count": 58,
   "metadata": {},
   "outputs": [
    {
     "name": "stdout",
     "output_type": "stream",
     "text": [
      "This is Rule3\n",
      "Support of attributes {capital-gain, capital-loss}:  1826\n",
      "Support of attribute {native-country}::  1933\n",
      "Confidence of Rule3:  0.9112814895947426\n"
     ]
    },
    {
     "data": {
      "text/plain": [
       "0.9112814895947426"
      ]
     },
     "execution_count": 58,
     "metadata": {},
     "output_type": "execute_result"
    }
   ],
   "source": [
    "Rule3()"
   ]
  },
  {
   "cell_type": "code",
   "execution_count": 59,
   "metadata": {},
   "outputs": [
    {
     "name": "stdout",
     "output_type": "stream",
     "text": [
      "The Confidence of Rule1 is: 0\n",
      "The Confidence of Rule2 is: 0\n",
      "The Confidence of Rule3 is: 0\n"
     ]
    }
   ],
   "source": [
    "def print_confidence():\n",
    "    print(\"The Confidence of Rule1 is:\", confidence_rule1)\n",
    "    print(\"The Confidence of Rule2 is:\", confidence_rule2)\n",
    "    print(\"The Confidence of Rule3 is:\", confidence_rule3)\n",
    "print_confidence()"
   ]
  },
  {
   "cell_type": "markdown",
   "metadata": {},
   "source": [
    "To print the rules as a string array in ascending order of confidence we define an empty list and perform the below logic"
   ]
  },
  {
   "cell_type": "code",
   "execution_count": 10,
   "metadata": {},
   "outputs": [
    {
     "name": "stdout",
     "output_type": "stream",
     "text": [
      "This is Rule1\n",
      "Support of attributes {native-country, capital-gain}:  1766\n",
      "Support of attribute {capital-loss}::  2000\n",
      "Confidence of Rule1:  0.9462061155152888\n",
      "This is Rule2\n",
      "Support of attributes {native-country, capital-loss}:  1834\n",
      "Support of attribute {capital-gain}::  1934\n",
      "Confidence of Rule2:  0.9122137404580153\n",
      "This is Rule3\n",
      "Support of attributes {capital-gain, capital-loss}:  1826\n",
      "Support of attribute {native-country}::  1933\n",
      "Confidence of Rule3:  0.9112814895947426\n"
     ]
    }
   ],
   "source": [
    "str_rule_array=[]\n",
    "confidence_array=[Rule1(),Rule2(),Rule3()]"
   ]
  },
  {
   "cell_type": "code",
   "execution_count": 22,
   "metadata": {},
   "outputs": [
    {
     "data": {
      "text/plain": [
       "[0.9462061155152888, 0.9122137404580153, 0.9112814895947426]"
      ]
     },
     "execution_count": 22,
     "metadata": {},
     "output_type": "execute_result"
    }
   ],
   "source": [
    "confidence_array"
   ]
  },
  {
   "cell_type": "markdown",
   "metadata": {},
   "source": [
    "lets define array of string for Rules and define a function which will sort the array of string in decending order of confidence"
   ]
  },
  {
   "cell_type": "code",
   "execution_count": 27,
   "metadata": {},
   "outputs": [],
   "source": [
    "arr_of_string=[\"Rule1\",\"Rule2\",\"Rule3\"]"
   ]
  },
  {
   "cell_type": "code",
   "execution_count": 69,
   "metadata": {},
   "outputs": [
    {
     "data": {
      "text/plain": [
       "[0.9462061155152888, 0.9122137404580153, 0.9112814895947426]"
      ]
     },
     "execution_count": 69,
     "metadata": {},
     "output_type": "execute_result"
    }
   ],
   "source": [
    "confidence_array"
   ]
  },
  {
   "cell_type": "code",
   "execution_count": 70,
   "metadata": {},
   "outputs": [],
   "source": [
    "def sort_str_array():\n",
    "    i=0\n",
    "    while(i<3):\n",
    "        if(confidence_rule1==confidence_array[0]):\n",
    "            print(\"Hello\")\n",
    "            arr_of_string[0]='Rule1'\n",
    "        elif(confidence_rule2==confidence_array[1]):\n",
    "            arr_of_striing[0]=\"Rule2\"\n",
    "        elif(confidence_rule3==confidence_array[2]):\n",
    "            arr_of_string[0]=\"Rule3\"\n",
    "        else:\n",
    "            pass\n",
    "        i+=1"
   ]
  },
  {
   "cell_type": "code",
   "execution_count": 71,
   "metadata": {},
   "outputs": [],
   "source": [
    "sort_str_array()"
   ]
  },
  {
   "cell_type": "code",
   "execution_count": 72,
   "metadata": {},
   "outputs": [
    {
     "data": {
      "text/plain": [
       "['Rule1', 'Rule2', 'Rule3']"
      ]
     },
     "execution_count": 72,
     "metadata": {},
     "output_type": "execute_result"
    }
   ],
   "source": [
    "arr_of_string"
   ]
  },
  {
   "cell_type": "code",
   "execution_count": null,
   "metadata": {},
   "outputs": [],
   "source": []
  }
 ],
 "metadata": {
  "kernelspec": {
   "display_name": "Python 3",
   "language": "python",
   "name": "python3"
  },
  "language_info": {
   "codemirror_mode": {
    "name": "ipython",
    "version": 3
   },
   "file_extension": ".py",
   "mimetype": "text/x-python",
   "name": "python",
   "nbconvert_exporter": "python",
   "pygments_lexer": "ipython3",
   "version": "3.7.0"
  }
 },
 "nbformat": 4,
 "nbformat_minor": 2
}
